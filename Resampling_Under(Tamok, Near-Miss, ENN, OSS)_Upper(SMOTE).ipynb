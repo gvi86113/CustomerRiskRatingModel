{
 "cells": [
  {
   "cell_type": "code",
   "execution_count": null,
   "metadata": {},
   "outputs": [],
   "source": [
    "# https://machinelearningmastery.com/undersampling-algorithms-for-imbalanced-classification/\n",
    "# https://zhuanlan.zhihu.com/p/34782497\n",
    "# https://zhuanlan.zhihu.com/p/139570091"
   ]
  },
  {
   "cell_type": "code",
   "execution_count": 1,
   "metadata": {},
   "outputs": [],
   "source": [
    "# pip install imbalanced-learn\n",
    "# https://imbalanced-learn.org/stable/under_sampling.html"
   ]
  },
  {
   "cell_type": "code",
   "execution_count": 7,
   "metadata": {},
   "outputs": [],
   "source": [
    "import numpy as np\n",
    "import pandas as pd\n",
    "import seaborn as sns\n",
    "import imblearn"
   ]
  },
  {
   "cell_type": "code",
   "execution_count": 8,
   "metadata": {},
   "outputs": [],
   "source": [
    "df = pd.read_csv(\"CRR_df.csv\")"
   ]
  },
  {
   "cell_type": "code",
   "execution_count": 5,
   "metadata": {},
   "outputs": [
    {
     "data": {
      "text/plain": [
       "<seaborn.axisgrid.FacetGrid at 0x227413e9eb0>"
      ]
     },
     "execution_count": 5,
     "metadata": {},
     "output_type": "execute_result"
    },
    {
     "data": {
      "image/png": "[encoded data removed]",
      "text/plain": [
       "<Figure size 360x360 with 1 Axes>"
      ]
     },
     "metadata": {
      "needs_background": "light"
     },
     "output_type": "display_data"
    }
   ],
   "source": [
    "sns.displot(df, x=\"SAR_ALERT\",discrete=True)"
   ]
  },
  {
   "cell_type": "code",
   "execution_count": 5,
   "metadata": {},
   "outputs": [
    {
     "name": "stdout",
     "output_type": "stream",
     "text": [
      "Counter({0: 78441, 1: 1691})\n"
     ]
    }
   ],
   "source": [
    "# summarize class distribution\n",
    "from collections import Counter\n",
    "counter = Counter(df['SAR_ALERT'])\n",
    "print(counter)"
   ]
  },
  {
   "cell_type": "code",
   "execution_count": 11,
   "metadata": {},
   "outputs": [],
   "source": [
    "# define the undersampling method: TomekLinks\n",
    "# 自多數派樣本中，刪除最近點為少數派樣本者\n",
    "from imblearn.under_sampling import TomekLinks\n",
    "undersample = TomekLinks()"
   ]
  },
  {
   "cell_type": "code",
   "execution_count": 25,
   "metadata": {},
   "outputs": [],
   "source": [
    "# transform the dataset\n",
    "X = df.iloc[:, 1:-1]\n",
    "y = df['SAR_ALERT']\n",
    "X, y = undersample.fit_resample(X, y)"
   ]
  },
  {
   "cell_type": "code",
   "execution_count": 26,
   "metadata": {},
   "outputs": [
    {
     "name": "stdout",
     "output_type": "stream",
     "text": [
      "Counter({0: 78198, 1: 1691})\n"
     ]
    }
   ],
   "source": [
    "# summarize the new class distribution\n",
    "counter = Counter(y)\n",
    "print(counter)"
   ]
  },
  {
   "cell_type": "code",
   "execution_count": 35,
   "metadata": {},
   "outputs": [
    {
     "data": {
      "text/html": [
       "<div>\n",
       "<style scoped>\n",
       "    .dataframe tbody tr th:only-of-type {\n",
       "        vertical-align: middle;\n",
       "    }\n",
       "\n",
       "    .dataframe tbody tr th {\n",
       "        vertical-align: top;\n",
       "    }\n",
       "\n",
       "    .dataframe thead th {\n",
       "        text-align: right;\n",
       "    }\n",
       "</style>\n",
       "<table border=\"1\" class=\"dataframe\">\n",
       "  <thead>\n",
       "    <tr style=\"text-align: right;\">\n",
       "      <th></th>\n",
       "      <th>CONFIRM_YN_N</th>\n",
       "      <th>CONFIRM_YN_NA</th>\n",
       "      <th>CONFIRM_YN_Y</th>\n",
       "      <th>COMPLEX_CS_FG_N</th>\n",
       "      <th>COMPLEX_CS_FG_NA</th>\n",
       "      <th>COMPLEX_CS_FG_Y</th>\n",
       "      <th>AUTHORIZED_N</th>\n",
       "      <th>AUTHORIZED_NA</th>\n",
       "      <th>AUTHORIZED_Y</th>\n",
       "      <th>BEARER_SHARE_N</th>\n",
       "      <th>...</th>\n",
       "      <th>CMFCUS1_BUSINESS_CODE</th>\n",
       "      <th>RISK_LEVEL</th>\n",
       "      <th>JOB_RISK</th>\n",
       "      <th>CMFCUS25_SP_RATING</th>\n",
       "      <th>CMFCUS25_MOODYS_RATING</th>\n",
       "      <th>CMFCUS25_SRT_SP_RATING</th>\n",
       "      <th>CMFCUS25_SRT_MOODYS_RATING</th>\n",
       "      <th>CMFCUS25_SRT_FITCH_RATING</th>\n",
       "      <th>NA count</th>\n",
       "      <th>SAR_ALERT</th>\n",
       "    </tr>\n",
       "  </thead>\n",
       "  <tbody>\n",
       "    <tr>\n",
       "      <th>0</th>\n",
       "      <td>0</td>\n",
       "      <td>0</td>\n",
       "      <td>1</td>\n",
       "      <td>1</td>\n",
       "      <td>0</td>\n",
       "      <td>0</td>\n",
       "      <td>1</td>\n",
       "      <td>0</td>\n",
       "      <td>0</td>\n",
       "      <td>0</td>\n",
       "      <td>...</td>\n",
       "      <td>2</td>\n",
       "      <td>3</td>\n",
       "      <td>2</td>\n",
       "      <td>0</td>\n",
       "      <td>0</td>\n",
       "      <td>0</td>\n",
       "      <td>0</td>\n",
       "      <td>0</td>\n",
       "      <td>10</td>\n",
       "      <td>0</td>\n",
       "    </tr>\n",
       "    <tr>\n",
       "      <th>1</th>\n",
       "      <td>0</td>\n",
       "      <td>0</td>\n",
       "      <td>1</td>\n",
       "      <td>0</td>\n",
       "      <td>1</td>\n",
       "      <td>0</td>\n",
       "      <td>1</td>\n",
       "      <td>0</td>\n",
       "      <td>0</td>\n",
       "      <td>0</td>\n",
       "      <td>...</td>\n",
       "      <td>2</td>\n",
       "      <td>2</td>\n",
       "      <td>1</td>\n",
       "      <td>0</td>\n",
       "      <td>0</td>\n",
       "      <td>0</td>\n",
       "      <td>0</td>\n",
       "      <td>0</td>\n",
       "      <td>12</td>\n",
       "      <td>0</td>\n",
       "    </tr>\n",
       "    <tr>\n",
       "      <th>2</th>\n",
       "      <td>0</td>\n",
       "      <td>1</td>\n",
       "      <td>0</td>\n",
       "      <td>0</td>\n",
       "      <td>1</td>\n",
       "      <td>0</td>\n",
       "      <td>1</td>\n",
       "      <td>0</td>\n",
       "      <td>0</td>\n",
       "      <td>0</td>\n",
       "      <td>...</td>\n",
       "      <td>3</td>\n",
       "      <td>3</td>\n",
       "      <td>3</td>\n",
       "      <td>0</td>\n",
       "      <td>0</td>\n",
       "      <td>0</td>\n",
       "      <td>0</td>\n",
       "      <td>0</td>\n",
       "      <td>11</td>\n",
       "      <td>0</td>\n",
       "    </tr>\n",
       "    <tr>\n",
       "      <th>3</th>\n",
       "      <td>0</td>\n",
       "      <td>0</td>\n",
       "      <td>1</td>\n",
       "      <td>1</td>\n",
       "      <td>0</td>\n",
       "      <td>0</td>\n",
       "      <td>0</td>\n",
       "      <td>1</td>\n",
       "      <td>0</td>\n",
       "      <td>1</td>\n",
       "      <td>...</td>\n",
       "      <td>1</td>\n",
       "      <td>2</td>\n",
       "      <td>3</td>\n",
       "      <td>0</td>\n",
       "      <td>0</td>\n",
       "      <td>0</td>\n",
       "      <td>0</td>\n",
       "      <td>0</td>\n",
       "      <td>12</td>\n",
       "      <td>0</td>\n",
       "    </tr>\n",
       "    <tr>\n",
       "      <th>4</th>\n",
       "      <td>0</td>\n",
       "      <td>0</td>\n",
       "      <td>1</td>\n",
       "      <td>1</td>\n",
       "      <td>0</td>\n",
       "      <td>0</td>\n",
       "      <td>1</td>\n",
       "      <td>0</td>\n",
       "      <td>0</td>\n",
       "      <td>1</td>\n",
       "      <td>...</td>\n",
       "      <td>2</td>\n",
       "      <td>2</td>\n",
       "      <td>2</td>\n",
       "      <td>0</td>\n",
       "      <td>0</td>\n",
       "      <td>0</td>\n",
       "      <td>0</td>\n",
       "      <td>0</td>\n",
       "      <td>8</td>\n",
       "      <td>0</td>\n",
       "    </tr>\n",
       "    <tr>\n",
       "      <th>...</th>\n",
       "      <td>...</td>\n",
       "      <td>...</td>\n",
       "      <td>...</td>\n",
       "      <td>...</td>\n",
       "      <td>...</td>\n",
       "      <td>...</td>\n",
       "      <td>...</td>\n",
       "      <td>...</td>\n",
       "      <td>...</td>\n",
       "      <td>...</td>\n",
       "      <td>...</td>\n",
       "      <td>...</td>\n",
       "      <td>...</td>\n",
       "      <td>...</td>\n",
       "      <td>...</td>\n",
       "      <td>...</td>\n",
       "      <td>...</td>\n",
       "      <td>...</td>\n",
       "      <td>...</td>\n",
       "      <td>...</td>\n",
       "      <td>...</td>\n",
       "    </tr>\n",
       "    <tr>\n",
       "      <th>79884</th>\n",
       "      <td>0</td>\n",
       "      <td>0</td>\n",
       "      <td>1</td>\n",
       "      <td>0</td>\n",
       "      <td>1</td>\n",
       "      <td>0</td>\n",
       "      <td>0</td>\n",
       "      <td>1</td>\n",
       "      <td>0</td>\n",
       "      <td>1</td>\n",
       "      <td>...</td>\n",
       "      <td>1</td>\n",
       "      <td>2</td>\n",
       "      <td>3</td>\n",
       "      <td>0</td>\n",
       "      <td>0</td>\n",
       "      <td>0</td>\n",
       "      <td>0</td>\n",
       "      <td>0</td>\n",
       "      <td>16</td>\n",
       "      <td>0</td>\n",
       "    </tr>\n",
       "    <tr>\n",
       "      <th>79885</th>\n",
       "      <td>0</td>\n",
       "      <td>0</td>\n",
       "      <td>1</td>\n",
       "      <td>1</td>\n",
       "      <td>0</td>\n",
       "      <td>0</td>\n",
       "      <td>1</td>\n",
       "      <td>0</td>\n",
       "      <td>0</td>\n",
       "      <td>0</td>\n",
       "      <td>...</td>\n",
       "      <td>2</td>\n",
       "      <td>3</td>\n",
       "      <td>3</td>\n",
       "      <td>0</td>\n",
       "      <td>0</td>\n",
       "      <td>0</td>\n",
       "      <td>0</td>\n",
       "      <td>0</td>\n",
       "      <td>13</td>\n",
       "      <td>0</td>\n",
       "    </tr>\n",
       "    <tr>\n",
       "      <th>79886</th>\n",
       "      <td>0</td>\n",
       "      <td>0</td>\n",
       "      <td>1</td>\n",
       "      <td>1</td>\n",
       "      <td>0</td>\n",
       "      <td>0</td>\n",
       "      <td>0</td>\n",
       "      <td>1</td>\n",
       "      <td>0</td>\n",
       "      <td>0</td>\n",
       "      <td>...</td>\n",
       "      <td>1</td>\n",
       "      <td>3</td>\n",
       "      <td>3</td>\n",
       "      <td>0</td>\n",
       "      <td>0</td>\n",
       "      <td>0</td>\n",
       "      <td>0</td>\n",
       "      <td>0</td>\n",
       "      <td>14</td>\n",
       "      <td>0</td>\n",
       "    </tr>\n",
       "    <tr>\n",
       "      <th>79887</th>\n",
       "      <td>0</td>\n",
       "      <td>1</td>\n",
       "      <td>0</td>\n",
       "      <td>1</td>\n",
       "      <td>0</td>\n",
       "      <td>0</td>\n",
       "      <td>0</td>\n",
       "      <td>1</td>\n",
       "      <td>0</td>\n",
       "      <td>0</td>\n",
       "      <td>...</td>\n",
       "      <td>2</td>\n",
       "      <td>2</td>\n",
       "      <td>3</td>\n",
       "      <td>0</td>\n",
       "      <td>0</td>\n",
       "      <td>0</td>\n",
       "      <td>0</td>\n",
       "      <td>0</td>\n",
       "      <td>14</td>\n",
       "      <td>0</td>\n",
       "    </tr>\n",
       "    <tr>\n",
       "      <th>79888</th>\n",
       "      <td>0</td>\n",
       "      <td>1</td>\n",
       "      <td>0</td>\n",
       "      <td>0</td>\n",
       "      <td>1</td>\n",
       "      <td>0</td>\n",
       "      <td>1</td>\n",
       "      <td>0</td>\n",
       "      <td>0</td>\n",
       "      <td>0</td>\n",
       "      <td>...</td>\n",
       "      <td>3</td>\n",
       "      <td>2</td>\n",
       "      <td>3</td>\n",
       "      <td>0</td>\n",
       "      <td>0</td>\n",
       "      <td>0</td>\n",
       "      <td>0</td>\n",
       "      <td>0</td>\n",
       "      <td>12</td>\n",
       "      <td>0</td>\n",
       "    </tr>\n",
       "  </tbody>\n",
       "</table>\n",
       "<p>79889 rows × 147 columns</p>\n",
       "</div>"
      ],
      "text/plain": [
       "       CONFIRM_YN_N  CONFIRM_YN_NA  CONFIRM_YN_Y  COMPLEX_CS_FG_N  \\\n",
       "0                 0              0             1                1   \n",
       "1                 0              0             1                0   \n",
       "2                 0              1             0                0   \n",
       "3                 0              0             1                1   \n",
       "4                 0              0             1                1   \n",
       "...             ...            ...           ...              ...   \n",
       "79884             0              0             1                0   \n",
       "79885             0              0             1                1   \n",
       "79886             0              0             1                1   \n",
       "79887             0              1             0                1   \n",
       "79888             0              1             0                0   \n",
       "\n",
       "       COMPLEX_CS_FG_NA  COMPLEX_CS_FG_Y  AUTHORIZED_N  AUTHORIZED_NA  \\\n",
       "0                     0                0             1              0   \n",
       "1                     1                0             1              0   \n",
       "2                     1                0             1              0   \n",
       "3                     0                0             0              1   \n",
       "4                     0                0             1              0   \n",
       "...                 ...              ...           ...            ...   \n",
       "79884                 1                0             0              1   \n",
       "79885                 0                0             1              0   \n",
       "79886                 0                0             0              1   \n",
       "79887                 0                0             0              1   \n",
       "79888                 1                0             1              0   \n",
       "\n",
       "       AUTHORIZED_Y  BEARER_SHARE_N  ...  CMFCUS1_BUSINESS_CODE  RISK_LEVEL  \\\n",
       "0                 0               0  ...                      2           3   \n",
       "1                 0               0  ...                      2           2   \n",
       "2                 0               0  ...                      3           3   \n",
       "3                 0               1  ...                      1           2   \n",
       "4                 0               1  ...                      2           2   \n",
       "...             ...             ...  ...                    ...         ...   \n",
       "79884             0               1  ...                      1           2   \n",
       "79885             0               0  ...                      2           3   \n",
       "79886             0               0  ...                      1           3   \n",
       "79887             0               0  ...                      2           2   \n",
       "79888             0               0  ...                      3           2   \n",
       "\n",
       "       JOB_RISK  CMFCUS25_SP_RATING  CMFCUS25_MOODYS_RATING  \\\n",
       "0             2                   0                       0   \n",
       "1             1                   0                       0   \n",
       "2             3                   0                       0   \n",
       "3             3                   0                       0   \n",
       "4             2                   0                       0   \n",
       "...         ...                 ...                     ...   \n",
       "79884         3                   0                       0   \n",
       "79885         3                   0                       0   \n",
       "79886         3                   0                       0   \n",
       "79887         3                   0                       0   \n",
       "79888         3                   0                       0   \n",
       "\n",
       "       CMFCUS25_SRT_SP_RATING  CMFCUS25_SRT_MOODYS_RATING  \\\n",
       "0                           0                           0   \n",
       "1                           0                           0   \n",
       "2                           0                           0   \n",
       "3                           0                           0   \n",
       "4                           0                           0   \n",
       "...                       ...                         ...   \n",
       "79884                       0                           0   \n",
       "79885                       0                           0   \n",
       "79886                       0                           0   \n",
       "79887                       0                           0   \n",
       "79888                       0                           0   \n",
       "\n",
       "       CMFCUS25_SRT_FITCH_RATING  NA count  SAR_ALERT  \n",
       "0                              0        10          0  \n",
       "1                              0        12          0  \n",
       "2                              0        11          0  \n",
       "3                              0        12          0  \n",
       "4                              0         8          0  \n",
       "...                          ...       ...        ...  \n",
       "79884                          0        16          0  \n",
       "79885                          0        13          0  \n",
       "79886                          0        14          0  \n",
       "79887                          0        14          0  \n",
       "79888                          0        12          0  \n",
       "\n",
       "[79889 rows x 147 columns]"
      ]
     },
     "execution_count": 35,
     "metadata": {},
     "output_type": "execute_result"
    }
   ],
   "source": [
    "Tamok_df = pd.concat([X,y], axis=1, ignore_index=False)\n",
    "Tamok_df"
   ]
  },
  {
   "cell_type": "code",
   "execution_count": 36,
   "metadata": {},
   "outputs": [],
   "source": [
    "Tamok_df.to_csv(\"Tamok_df.csv\")"
   ]
  },
  {
   "cell_type": "code",
   "execution_count": 38,
   "metadata": {},
   "outputs": [
    {
     "name": "stdout",
     "output_type": "stream",
     "text": [
      "Counter({0: 1691, 1: 1691})\n"
     ]
    }
   ],
   "source": [
    "# define the undersampling method: NM-T\n",
    "# NearMiss-1: Majority class examples with minimum average distance to three closest minority class examples.\n",
    "# NearMiss-2: Majority class examples with minimum average distance to three furthest minority class examples.\n",
    "# NearMiss-3: Majority class examples with minimum distance to each minority class example.\n",
    "\n",
    "# undersample = NearMiss(version=T, n_neighbors=k)\n",
    "\n",
    "from imblearn.under_sampling import NearMiss\n",
    "undersample = NearMiss(version=2, n_neighbors=3)\n",
    "\n",
    "X = df.iloc[:, 1:-1]\n",
    "y = df['SAR_ALERT']\n",
    "X, y = undersample.fit_resample(X, y)\n",
    "\n",
    "counter = Counter(y)\n",
    "print(counter)"
   ]
  },
  {
   "cell_type": "code",
   "execution_count": null,
   "metadata": {},
   "outputs": [],
   "source": [
    "# 看起來 NM-T 是會自動迭代到 0、1 完全平衡為止\n",
    "# 1: 對每一多數派樣本，計算其至最近三(k)個少數派樣本的平均距離，只留下平均距離最小者 (加強決策邊界 = 減少冗餘的多數派資料)\n",
    "# 2: 對每一多數派樣本，計算其至最遠三(k)個少數派樣本的平均距離，只留下平均距離最小者 (加強兩類在空間上的差異 = 減少混淆)\n",
    "# 3: 對每一個少數派樣本，保留離其最近的多數派樣本 (加強決策邊界)"
   ]
  },
  {
   "cell_type": "code",
   "execution_count": 39,
   "metadata": {},
   "outputs": [],
   "source": [
    "NM2_df = pd.concat([X,y], axis=1, ignore_index=False)\n",
    "NM2_df.to_csv(\"NM2_df.csv\")"
   ]
  },
  {
   "cell_type": "code",
   "execution_count": 40,
   "metadata": {},
   "outputs": [
    {
     "name": "stdout",
     "output_type": "stream",
     "text": [
      "Counter({0: 76544, 1: 1691})\n"
     ]
    }
   ],
   "source": [
    "# define the undersampling method: ENN\n",
    "# 針對多數派樣本，若該樣本的 KNN 多數決非多數派便刪除之\n",
    "\n",
    "from imblearn.under_sampling import EditedNearestNeighbours\n",
    "undersample = EditedNearestNeighbours(n_neighbors=3)\n",
    "\n",
    "X = df.iloc[:, 1:-1]\n",
    "y = df['SAR_ALERT']\n",
    "X, y = undersample.fit_resample(X, y)\n",
    "\n",
    "counter = Counter(y)\n",
    "print(counter)"
   ]
  },
  {
   "cell_type": "code",
   "execution_count": 41,
   "metadata": {},
   "outputs": [],
   "source": [
    "ENN_df = pd.concat([X,y], axis=1, ignore_index=False)\n",
    "ENN_df.to_csv(\"ENN_df.csv\")"
   ]
  },
  {
   "cell_type": "code",
   "execution_count": 46,
   "metadata": {},
   "outputs": [
    {
     "name": "stdout",
     "output_type": "stream",
     "text": [
      "Counter({0: 59419, 1: 1691})\n"
     ]
    }
   ],
   "source": [
    "# define the undersampling method: One-Sided Selection for Undersampling (OSS)\n",
    "# Tamok Links + Condensed Nearest Neighbor (CNN = 濃縮式最近鄰分類器)\n",
    "# CNN (k=1): 以 KNN 的邏輯，隨機選定一筆樣本作為起始 Prototype 資料，\n",
    "# 其餘樣本依序照 KNN 邏輯檢視，若屬於現有分類則被吸收消滅，若不屬於則成為新分類\n",
    "# n_seeds_S 有待進一步了解\n",
    "\n",
    "from imblearn.under_sampling import OneSidedSelection\n",
    "undersample = OneSidedSelection(n_neighbors=1, n_seeds_S=200)\n",
    "\n",
    "X = df.iloc[:, 1:-1]\n",
    "y = df['SAR_ALERT']\n",
    "X, y = undersample.fit_resample(X, y)\n",
    "\n",
    "counter = Counter(y)\n",
    "print(counter)"
   ]
  },
  {
   "cell_type": "code",
   "execution_count": 45,
   "metadata": {},
   "outputs": [],
   "source": [
    "OSS_df = pd.concat([X,y], axis=1, ignore_index=False)\n",
    "OSS_df.to_csv(\"OSS_df.csv\")"
   ]
  },
  {
   "cell_type": "code",
   "execution_count": null,
   "metadata": {},
   "outputs": [],
   "source": [
    "# https://machinelearningmastery.com/smote-oversampling-for-imbalanced-classification/"
   ]
  },
  {
   "cell_type": "code",
   "execution_count": 6,
   "metadata": {},
   "outputs": [
    {
     "name": "stdout",
     "output_type": "stream",
     "text": [
      "Counter({0: 78441, 1: 78441})\n"
     ]
    }
   ],
   "source": [
    "# SMOTE: 在少數派樣本連線之間創造出新的少數派樣本\n",
    "\n",
    "from imblearn.over_sampling import SMOTE\n",
    "oversample = SMOTE()\n",
    "X = df.iloc[:, 1:-1]\n",
    "y = df['SAR_ALERT']\n",
    "X, y = oversample.fit_resample(X, y)\n",
    "\n",
    "counter = Counter(y)\n",
    "print(counter)"
   ]
  },
  {
   "cell_type": "code",
   "execution_count": 47,
   "metadata": {},
   "outputs": [],
   "source": [
    "# 下一步：如何將其中距離公式改成 Hamming?\n",
    "# 考量：但我們目前轉換後資料還混合著類別跟序列型資料 (犧牲序列型為類別型=Dummy?)\n",
    "# 類別自己作 x 序列自己作 begging在一起\n",
    "# 先(非監督)分群 再將子群分別訓練監督模型\n",
    "# 其他分群：遺失值多 / 資料齊全"
   ]
  },
  {
   "cell_type": "code",
   "execution_count": null,
   "metadata": {},
   "outputs": [],
   "source": [
    "# 方案一:監督(性質對行為) 方案二:時間序列(性質變動對行為) 方案三:非監督(分群)\n",
    "# 1. SAR/ALERT (交易行為) 跟 主管機關在意之個體風險 (靜態性質) 是兩件事，應分開考量 (前者:性質跟實際行為之關聯、後者:性質之間的關聯)\n",
    "# 1-2. 靜態性質的變動\n",
    "# 2. 資料集切分(子集)、變數篩選(Lasso、降維)、變數轉換要有規則\n",
    "# 3. 研究方法：變數轉換 & 遺失補值 --> 變數篩選 --> 重採樣 --> 資料切分(數值/類別) --> 模型訓練(begging)"
   ]
  }
 ],
 "metadata": {
  "kernelspec": {
   "display_name": "Python 3",
   "language": "python",
   "name": "python3"
  },
  "language_info": {
   "codemirror_mode": {
    "name": "ipython",
    "version": 3
   },
   "file_extension": ".py",
   "mimetype": "text/x-python",
   "name": "python",
   "nbconvert_exporter": "python",
   "pygments_lexer": "ipython3",
   "version": "3.8.5"
  }
 },
 "nbformat": 4,
 "nbformat_minor": 4
}
